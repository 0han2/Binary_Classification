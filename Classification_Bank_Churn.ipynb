{
  "cells": [
    {
      "cell_type": "markdown",
      "metadata": {
        "id": "FxJgeJV0ibOW"
      },
      "source": [
        "# 모듈 설치"
      ]
    },
    {
      "cell_type": "code",
      "execution_count": null,
      "metadata": {
        "id": "qDaEg2RRiPTV"
      },
      "outputs": [],
      "source": [
        "!pip install -q catboost\n",
        "!pip install -q xgboost\n",
        "!pip install -q lightgbm\n",
        "!pip install -q bayesian-optimization==1.4.2\n",
        "!pip install -q missingno"
      ]
    },
    {
      "cell_type": "markdown",
      "metadata": {
        "id": "EpnPe1Zvk7M-"
      },
      "source": [
        "# 데이터 셋 불러오기"
      ]
    },
    {
      "cell_type": "code",
      "execution_count": null,
      "metadata": {
        "id": "zZQuaI0bk2yy"
      },
      "outputs": [],
      "source": [
        "!wget -P /content/dataset -q https://raw.githubusercontent.com/kangmg/Bank_Churn_classification/main/dataset/test.csv\n",
        "!wget -P /content/dataset -q https://raw.githubusercontent.com/kangmg/Bank_Churn_classification/main/dataset/sample_submission.csv\n",
        "!wget -P /content/dataset -q https://raw.githubusercontent.com/kangmg/Bank_Churn_classification/main/dataset/train.csv\n",
        "!wget -P /content/dataset -q https://raw.githubusercontent.com/kangmg/Bank_Churn_classification/main/dataset/Churn_Modelling.csv\n",
        "\n",
        "!echo \"The dataset download is complete !\""
      ]
    },
    {
      "cell_type": "markdown",
      "metadata": {
        "id": "7WSfbeE7lALc"
      },
      "source": [
        "# 모듈 호출하기"
      ]
    },
    {
      "cell_type": "code",
      "execution_count": 3,
      "metadata": {
        "id": "VohYdOpJk_Yl"
      },
      "outputs": [],
      "source": [
        "import pandas as pd\n",
        "import numpy as np\n",
        "\n",
        "import missingno as msno\n",
        "import matplotlib.pyplot as plt\n",
        "import seaborn as sns\n",
        "\n",
        "from sklearn.model_selection import train_test_split\n",
        "from sklearn.model_selection import GridSearchCV\n",
        "from sklearn.model_selection import StratifiedKFold\n",
        "from sklearn.pipeline import Pipeline\n",
        "from sklearn.preprocessing import StandardScaler, MinMaxScaler, RobustScaler\n",
        "\n",
        "from sklearn.linear_model import LogisticRegression\n",
        "from sklearn.linear_model import SGDClassifier\n",
        "from sklearn.neighbors import KNeighborsClassifier\n",
        "from sklearn.tree import DecisionTreeClassifier\n",
        "from sklearn.ensemble import RandomForestClassifier\n",
        "from sklearn.ensemble import AdaBoostClassifier\n",
        "from sklearn.naive_bayes import GaussianNB\n",
        "from sklearn.discriminant_analysis import QuadraticDiscriminantAnalysis\n",
        "\n",
        "from sklearn.metrics import roc_auc_score, accuracy_score,roc_curve\n",
        "\n",
        "from catboost import CatBoostClassifier, Pool\n",
        "from lightgbm import LGBMClassifier\n",
        "from xgboost import XGBClassifier\n",
        "\n",
        "import warnings\n",
        "warnings.filterwarnings('ignore')"
      ]
    },
    {
      "cell_type": "markdown",
      "metadata": {
        "id": "SJcAU8qflTNC"
      },
      "source": [
        "# 데이터 셋 불러오기"
      ]
    },
    {
      "cell_type": "code",
      "execution_count": 4,
      "metadata": {
        "id": "gt4B5KmGlNgP"
      },
      "outputs": [],
      "source": [
        "train = pd.read_csv(\"/content/dataset/train.csv\", index_col = 0)\n",
        "test_df = pd.read_csv(\"/content/dataset/test.csv\", index_col = 0)\n",
        "train_add = pd.read_csv(\"/content/dataset/Churn_Modelling.csv\", index_col = 0)"
      ]
    },
    {
      "cell_type": "code",
      "execution_count": null,
      "metadata": {
        "id": "m4fsuVDRleti"
      },
      "outputs": [],
      "source": [
        "display(train.head()), display(test_df.head()), display(train_add.head())"
      ]
    },
    {
      "cell_type": "code",
      "execution_count": null,
      "metadata": {
        "id": "b28l1iNdl1Ep"
      },
      "outputs": [],
      "source": [
        "train.shape, test_df.shape, train_add.shape"
      ]
    },
    {
      "cell_type": "code",
      "execution_count": null,
      "metadata": {
        "id": "dFDvKgURmjwA"
      },
      "outputs": [],
      "source": [
        "# train과 train_add 병합\n",
        "train_df = train.merge(train_add, how=\"outer\")\n",
        "train_df.shape"
      ]
    },
    {
      "cell_type": "code",
      "execution_count": null,
      "metadata": {
        "id": "xF9ALWxS1TMb"
      },
      "outputs": [],
      "source": [
        "%matplotlib inline\n",
        "msno.matrix(train_df)"
      ]
    },
    {
      "cell_type": "code",
      "execution_count": null,
      "metadata": {
        "id": "edSvVRgs1-qJ"
      },
      "outputs": [],
      "source": [
        "# 병합 후에 결측치 확인\n",
        "train_df.isnull().sum()"
      ]
    },
    {
      "cell_type": "code",
      "execution_count": null,
      "metadata": {
        "id": "o2b_xMo-1SmL"
      },
      "outputs": [],
      "source": [
        "#결측치 칼럼 제거\n",
        "train_df = train_df.dropna()\n",
        "train_df.isnull().sum()"
      ]
    },
    {
      "cell_type": "markdown",
      "metadata": {
        "id": "GGv-YhNCnNII"
      },
      "source": [
        "- 피처 요약표 생성"
      ]
    },
    {
      "cell_type": "code",
      "execution_count": null,
      "metadata": {
        "id": "wVSPwjmmnBrF"
      },
      "outputs": [],
      "source": [
        "def summary_feature_info( df ):\n",
        "  # 타입을 데이터로 기본 구성\n",
        "  summary_df = pd.DataFrame( df.dtypes, columns = ['타입'])\n",
        "\n",
        "  summary_df.reset_index(inplace = True)\n",
        "  summary_df.rename( columns = {'index':'feature'}, inplace = True)\n",
        "  summary_df['결측치 수'] = df.isnull().sum().values\n",
        "  summary_df['고유값 수'] = df.nunique().values\n",
        "  summary_df['샘플1'] = df.head().T[0].values\n",
        "  summary_df['샘플2'] = df.head().T[1].values\n",
        "  summary_df['샘플3'] = df.head().T[2].values\n",
        "  return summary_df\n",
        "\n",
        "summary_feature_info(train_df)"
      ]
    },
    {
      "cell_type": "markdown",
      "metadata": {
        "id": "yuYtb50Goxiq"
      },
      "source": [
        "# EDA"
      ]
    },
    {
      "cell_type": "markdown",
      "metadata": {
        "id": "gpwA9FVEpfYd"
      },
      "source": [
        "- 피처 유형별로 분류"
      ]
    },
    {
      "cell_type": "code",
      "execution_count": 12,
      "metadata": {
        "id": "nsI_qTHoo4d_"
      },
      "outputs": [],
      "source": [
        "contis = ['CreditScore', 'Age','Tenure', 'Balance', 'NumOfProducts', 'EstimatedSalary']\n",
        "cats = ['Geography', 'Gender', 'HasCrCard', 'IsActiveMember']\n",
        "target = ['Exited']"
      ]
    },
    {
      "cell_type": "markdown",
      "metadata": {
        "id": "OuDa0NR3plcB"
      },
      "source": [
        "## 타겟 데이터 분포 확인"
      ]
    },
    {
      "cell_type": "code",
      "execution_count": null,
      "metadata": {
        "id": "C4JQfe4ap5dz"
      },
      "outputs": [],
      "source": [
        "# 타겟 데이터 불균형 -> 층화 처리 고려\n",
        "palette1 = sns.color_palette('colorblind', 10)\n",
        "palette2 = sns.color_palette('deep', 10)\n",
        "\n",
        "def custom_countplot( ax, all_data_cnt ):\n",
        "  for bar in ax.patches:\n",
        "    if bar.get_height() == 0:\n",
        "      continue\n",
        "    rate = bar.get_height() / all_data_cnt * 100\n",
        "    ax.text(   x = bar.get_x() + bar.get_width()/2\n",
        "              ,y = bar.get_y() + bar.get_height() + all_data_cnt*0.01\n",
        "              ,s = f'{rate:1.1f} %'\n",
        "              ,ha = 'center'\n",
        "            )\n",
        "  return ax\n",
        "\n",
        "\n",
        "chart = custom_countplot( sns.countplot( data=train_df, x='Exited', palette=palette1),\n",
        "                          train_df.shape[0] )\n",
        "chart;"
      ]
    },
    {
      "cell_type": "markdown",
      "metadata": {
        "id": "9FZxbtEMuPJq"
      },
      "source": [
        "## 범주형 데이터 분포 확인"
      ]
    },
    {
      "cell_type": "code",
      "execution_count": null,
      "metadata": {
        "id": "DcUmtmTjreVG"
      },
      "outputs": [],
      "source": [
        "plt.figure(figsize=(18,6))\n",
        "plt.subplot(1,4,1)\n",
        "custom_countplot( sns.countplot( data=train_df, x=cats[0], palette=palette1),train_df.shape[0] )\n",
        "plt.subplot(1,4,2)\n",
        "custom_countplot( sns.countplot( data=train_df, x=cats[1], palette=palette2),train_df.shape[0] )\n",
        "plt.subplot(1,4,3)\n",
        "custom_countplot( sns.countplot( data=train_df, x=cats[2], palette=palette1),train_df.shape[0] )\n",
        "plt.subplot(1,4,4)\n",
        "custom_countplot( sns.countplot( data=train_df, x=cats[3], palette=palette2),train_df.shape[0] )"
      ]
    },
    {
      "cell_type": "code",
      "execution_count": null,
      "metadata": {
        "id": "_u1Rn1emrzZq"
      },
      "outputs": [],
      "source": [
        "plt.figure(figsize=(18,6))\n",
        "plt.subplot(1,4,1)\n",
        "custom_countplot( sns.countplot( data=train_df, x=cats[0], hue = 'Exited', palette=palette1),train_df.shape[0] )\n",
        "plt.subplot(1,4,2)\n",
        "custom_countplot( sns.countplot( data=train_df, x=cats[1], hue = 'Exited', palette=palette2),train_df.shape[0] )\n",
        "plt.subplot(1,4,3)\n",
        "custom_countplot( sns.countplot( data=train_df, x=cats[2], hue = 'Exited', palette=palette1),train_df.shape[0] )\n",
        "plt.subplot(1,4,4)\n",
        "custom_countplot( sns.countplot( data=train_df, x=cats[3], hue = 'Exited', palette=palette2),train_df.shape[0] )"
      ]
    },
    {
      "cell_type": "markdown",
      "metadata": {
        "id": "mAX-29Odv9uO"
      },
      "source": [
        "## 연속형 데이터 분포 확인"
      ]
    },
    {
      "cell_type": "code",
      "execution_count": null,
      "metadata": {
        "id": "n7mdGSGIv62q"
      },
      "outputs": [],
      "source": [
        "plt.figure(figsize=(18, 12))\n",
        "\n",
        "for i, conti in enumerate(contis, start=1):\n",
        "    plt.subplot(3, 3, i)\n",
        "    sns.histplot(data=train_df, x=conti, hue='Exited', kde=True, bins=30, palette='muted')\n",
        "    plt.title(f'Distribution of {conti} by Exited', pad=20)  # 제목과 subplot 사이의 간격 조정\n",
        "    plt.xlabel(conti, labelpad=10)  # x축 레이블과 그래프 사이의 간격 조정\n",
        "    plt.ylabel('Frequency')\n",
        "    plt.legend(title='Exited', labels=['Not Exited', 'Exited'])\n",
        "\n",
        "plt.tight_layout()\n",
        "plt.show()"
      ]
    },
    {
      "cell_type": "code",
      "execution_count": null,
      "metadata": {
        "id": "x242ixroyK8i"
      },
      "outputs": [],
      "source": [
        "plt.figure(figsize=(18,15))\n",
        "plt.subplot(3,3,1)\n",
        "sns.boxplot(x = train_df[contis[0]])\n",
        "plt.subplot(3,3,2)\n",
        "sns.boxplot(x = train_df[contis[1]])\n",
        "plt.subplot(3,3,3)\n",
        "sns.boxplot(x = train_df[contis[2]])\n",
        "plt.subplot(3,3,4)\n",
        "sns.boxplot(x = train_df[contis[3]])\n",
        "plt.subplot(3,3,5)\n",
        "sns.boxplot(x = train_df[contis[4]])\n",
        "plt.subplot(3,3,6)\n",
        "sns.boxplot(x = train_df[contis[5]])"
      ]
    },
    {
      "cell_type": "code",
      "execution_count": null,
      "metadata": {
        "id": "uBd8fgi-zUxp"
      },
      "outputs": [],
      "source": [
        "nums = ['CreditScore', 'Age','Tenure', 'Balance', 'NumOfProducts', 'EstimatedSalary', 'HasCrCard', 'IsActiveMember', 'Exited']\n",
        "upp_mat = np.triu(train_df[nums].corr())\n",
        "plt.figure(figsize=(15,10))\n",
        "sns.heatmap(train_df[nums].corr(), annot=True, fmt=\".2f\", cmap=\"Reds\", mask = upp_mat)"
      ]
    },
    {
      "cell_type": "markdown",
      "metadata": {
        "id": "nMS7QU_K00Y0"
      },
      "source": [
        "# 피처엔지니어링"
      ]
    },
    {
      "cell_type": "markdown",
      "metadata": {
        "id": "LvniWHp-2hO-"
      },
      "source": [
        "## 불필요한 피처 제거"
      ]
    },
    {
      "cell_type": "code",
      "execution_count": null,
      "metadata": {
        "id": "StKb9SLV0z--"
      },
      "outputs": [],
      "source": [
        "# CustomerId, Surname 제거\n",
        "train_df.drop([\"CustomerId\"], axis=1, inplace=True)\n",
        "test_df.drop([\"CustomerId\"], axis=1, inplace=True)\n",
        "\n",
        "train_df.drop([\"Surname\"], axis=1, inplace=True)\n",
        "test_df.drop([\"Surname\"], axis=1, inplace=True)\n",
        "\n",
        "train_df.head(2)"
      ]
    },
    {
      "cell_type": "markdown",
      "metadata": {
        "id": "vvWu3aXw2kzv"
      },
      "source": [
        "## 파생변수 추가"
      ]
    },
    {
      "cell_type": "code",
      "execution_count": null,
      "metadata": {
        "id": "h6j3gfly2XR0"
      },
      "outputs": [],
      "source": [
        "# 파생변수 정의\n",
        "def getFeats(df):\n",
        "    df['IsSenior']               = df['Age'].apply(lambda x: 1 if x >= 60 else 0)\n",
        "    df['IsActive_by_CreditCard'] = df['HasCrCard'] * df['IsActiveMember']\n",
        "    df['Products_Per_Tenure']    = df['Tenure'] / df['NumOfProducts']\n",
        "    df['AgeCat']                 = (df[\"Age\"]//20).astype('int').astype('category')\n",
        "    return df\n",
        "\n",
        "# 새로 추가한 feature 함수 적용\n",
        "getFeats(train_df)\n",
        "getFeats(test_df)\n",
        "\n",
        "train_df.head()"
      ]
    },
    {
      "cell_type": "markdown",
      "metadata": {
        "id": "JinaQBXg2nDR"
      },
      "source": [
        "## 타입 변환"
      ]
    },
    {
      "cell_type": "code",
      "source": [
        "train_df.dtypes"
      ],
      "metadata": {
        "id": "yQsk-F7lQmuz"
      },
      "execution_count": null,
      "outputs": []
    },
    {
      "cell_type": "code",
      "execution_count": null,
      "metadata": {
        "id": "sHCHQP802Y5f"
      },
      "outputs": [],
      "source": [
        "train_df['HasCrCard'] = train_df['HasCrCard'].astype(int)\n",
        "train_df['IsActiveMember'] = train_df['IsActiveMember'].astype(int)\n",
        "train_df['IsActive_by_CreditCard'] = train_df['IsActive_by_CreditCard'].astype(int)\n",
        "\n",
        "test_df['HasCrCard'] = test_df['HasCrCard'].astype(int)\n",
        "test_df['IsActiveMember'] = test_df['IsActiveMember'].astype(int)\n",
        "test_df['IsActive_by_CreditCard'] = test_df['IsActive_by_CreditCard'].astype(int)"
      ]
    },
    {
      "cell_type": "code",
      "source": [
        "train_df.dtypes"
      ],
      "metadata": {
        "id": "f65Cdw2qQewT"
      },
      "execution_count": null,
      "outputs": []
    },
    {
      "cell_type": "markdown",
      "metadata": {
        "id": "REO5ADA22s7y"
      },
      "source": [
        "## 피처 인코딩 진행"
      ]
    },
    {
      "cell_type": "code",
      "execution_count": null,
      "metadata": {
        "id": "K2HAM9je2qeZ"
      },
      "outputs": [],
      "source": [
        "# Geography 원 핫 적용\n",
        "train_df = pd.get_dummies(data = train_df, columns=['Geography'], dtype=int)\n",
        "test_df = pd.get_dummies(data = test_df, columns=['Geography'], dtype=int)\n",
        "\n",
        "# AgeCat 원 핫 적용\n",
        "train_df = pd.get_dummies(data = train_df, columns=['AgeCat'], dtype=int)\n",
        "test_df = pd.get_dummies(data = test_df, columns=['AgeCat'], dtype=int)\n",
        "\n",
        "# Gender 데이터 이진 분류\n",
        "train_df[\"Gender\"] = train_df[\"Gender\"].map({\"Male\":0, \"Female\":1})\n",
        "test_df[\"Gender\"] = test_df[\"Gender\"].map({\"Male\":0, \"Female\":1})"
      ]
    },
    {
      "cell_type": "code",
      "source": [
        "train_df.head()"
      ],
      "metadata": {
        "id": "QKqyBHJ9SocQ"
      },
      "execution_count": null,
      "outputs": []
    },
    {
      "cell_type": "markdown",
      "metadata": {
        "id": "O27aAjhI25yn"
      },
      "source": [
        "# 모델링"
      ]
    },
    {
      "cell_type": "code",
      "execution_count": null,
      "metadata": {
        "id": "q5xlwFt228Yx"
      },
      "outputs": [],
      "source": [
        "X = train_df.drop(columns = ['Exited'])\n",
        "y = train_df.Exited\n",
        "\n",
        "# EDA를 바탕으로 층화 적용\n",
        "X_train, X_test, y_train, y_test = train_test_split(X, y, test_size = 0.2, random_state = 42, stratify = y, shuffle=True)"
      ]
    },
    {
      "cell_type": "markdown",
      "metadata": {
        "id": "Sz5eiEqR4Kpa"
      },
      "source": [
        "## 부스팅 아닌 모델"
      ]
    },
    {
      "cell_type": "code",
      "execution_count": null,
      "metadata": {
        "id": "o_3APBDI3neI"
      },
      "outputs": [],
      "source": [
        "models = {\n",
        "    'LogisticRegression': LogisticRegression(),\n",
        "    'KNN': KNeighborsClassifier(),\n",
        "    'DecisionTree': DecisionTreeClassifier(),\n",
        "    'RandomForest': RandomForestClassifier(),\n",
        "}\n",
        "\n",
        "model_scores = {}\n",
        "\n",
        "for model_name, model in models.items():\n",
        "    model.fit(X_train, y_train)\n",
        "\n",
        "    y_pred = model.predict_proba(X_test)[:, 1]\n",
        "    auc = roc_auc_score(y_test, y_pred)\n",
        "    model_scores[model_name] = auc\n",
        "\n",
        "    print(f\"Test AUC for {model_name}:\", auc)\n",
        "    print('----------------------------------------------------')"
      ]
    },
    {
      "cell_type": "code",
      "execution_count": null,
      "metadata": {
        "id": "dg3nbZEq4iEf"
      },
      "outputs": [],
      "source": [
        "# 제일 점수가 높게 나온 RandomForest모델 튜닝\n",
        "plt.figure(figsize=(10, 6))\n",
        "sns.barplot(x=list(model_scores.keys()), y=list(model_scores.values()), palette=palette1)\n",
        "plt.title('Model AUC ROC Scores')\n",
        "plt.show()"
      ]
    },
    {
      "cell_type": "markdown",
      "metadata": {
        "id": "EjikJ2VW41x-"
      },
      "source": [
        "### RandomForest"
      ]
    },
    {
      "cell_type": "code",
      "execution_count": null,
      "metadata": {
        "id": "pKTWBHrG40cu"
      },
      "outputs": [],
      "source": [
        "# RandomForestClassifier\n",
        "\n",
        "pipeline_rf = Pipeline([\n",
        "    ('scaler', None),\n",
        "    ('clf', RandomForestClassifier())\n",
        "])\n",
        "param_rf = {\n",
        "        'scaler': [None],\n",
        "        'clf__n_estimators': [220],\n",
        "        'clf__max_depth': [10],\n",
        "    }\n",
        "\n",
        "cls_rf = GridSearchCV(estimator=pipeline_rf, param_grid=param_rf, cv=5, scoring='roc_auc')\n",
        "cls_rf.fit(X_train, y_train)\n",
        "\n",
        "print(\"Best parameters:\", cls_rf.best_params_)\n",
        "print(\"Train Best score (AUC):\", cls_rf.best_score_)\n",
        "\n",
        "y_pred_rf = cls_rf.best_estimator_.predict_proba(X_test)[:, 1]\n",
        "auc_rf = roc_auc_score(y_test, y_pred_rf)\n",
        "print(\"Test Score (AUC) : \", auc_rf )\n",
        "\n",
        "# Best parameters: {'clf__max_depth': 10, 'clf__n_estimators': 220, 'scaler': None}\n",
        "# Train Best score (AUC): 0.8836905775473195\n",
        "# Test Score (AUC) :  0.8841045450038525"
      ]
    },
    {
      "cell_type": "markdown",
      "metadata": {
        "id": "3V9woLkk5Lm-"
      },
      "source": [
        "## 부스팅 모델"
      ]
    },
    {
      "cell_type": "markdown",
      "metadata": {
        "id": "9SPrdXXl6NSk"
      },
      "source": [
        "### XGBClassifier"
      ]
    },
    {
      "cell_type": "code",
      "execution_count": null,
      "metadata": {
        "id": "rfIT1qqb6JwM"
      },
      "outputs": [],
      "source": [
        "# XGBClassifier\n",
        "\n",
        "pipeline_xgboost = Pipeline([\n",
        "    ('scaler', None),\n",
        "    ('clf', XGBClassifier())\n",
        "])\n",
        "\n",
        "param_xgboost = {\n",
        "        'scaler': [None],\n",
        "        'clf__learning_rate': [0.2],\n",
        "        'clf__max_depth': [4]\n",
        "    }\n",
        "\n",
        "cls_xgb = GridSearchCV(estimator=pipeline_xgboost, param_grid=param_xgboost, cv=5, scoring='roc_auc')\n",
        "cls_xgb.fit(X_train, y_train)\n",
        "\n",
        "print(\"Best parameters:\", cls_xgb.best_params_)\n",
        "print(\"Train Best score (AUC):\", cls_xgb.best_score_)\n",
        "\n",
        "y_pred_xgb = cls_xgb.best_estimator_.predict_proba(X_test)[:, 1]\n",
        "auc_xgb = roc_auc_score(y_test, y_pred_xgb)\n",
        "print(\"Test Score (AUC) : \", auc_xgb )\n",
        "\n",
        "# Best parameters: {'clf__learning_rate': 0.2, 'clf__max_depth': 4, 'scaler': None}\n",
        "# Train Best score (AUC): 0.8881784408711055\n",
        "# Test Score (AUC) :  0.8892143578251673"
      ]
    },
    {
      "cell_type": "markdown",
      "metadata": {
        "id": "FFt-IHik6Toh"
      },
      "source": [
        "### LGBMClassifier"
      ]
    },
    {
      "cell_type": "code",
      "execution_count": null,
      "metadata": {
        "id": "TVjb2pPV6Mpu"
      },
      "outputs": [],
      "source": [
        "# LGBMClassifier\n",
        "\n",
        "pipeline_lightgbm = Pipeline([\n",
        "    ('scaler', None),\n",
        "    ('clf', LGBMClassifier())\n",
        "])\n",
        "\n",
        "param_lightgbm = {\n",
        "        'scaler': [None],\n",
        "        'clf__learning_rate': [0.1],\n",
        "        'clf__max_depth': [4]\n",
        "    }\n",
        "\n",
        "cls_LGB = GridSearchCV(estimator=pipeline_lightgbm, param_grid=param_lightgbm, cv=5, scoring='roc_auc')\n",
        "cls_LGB.fit(X_train, y_train)\n",
        "\n",
        "print(\"Best parameters:\", cls_LGB.best_params_)\n",
        "print(\"Train Best score (AUC):\", cls_LGB.best_score_)\n",
        "\n",
        "y_pred_LGB = cls_LGB.best_estimator_.predict_proba(X_test)[:, 1]\n",
        "auc_LGB = roc_auc_score(y_test, y_pred_LGB)\n",
        "print(\"Test Score (AUC) : \", auc_LGB )\n",
        "\n",
        "# Best parameters: {'clf__learning_rate': 0.1, 'clf__max_depth': 4, 'scaler': None}\n",
        "# Train Best score (AUC): 0.8880022543889072\n",
        "# Test Score (AUC) :  0.8885257258508887"
      ]
    },
    {
      "cell_type": "markdown",
      "metadata": {
        "id": "fVSWB-8HJ9F2"
      },
      "source": [
        "### CatBoostClassifier"
      ]
    },
    {
      "cell_type": "code",
      "execution_count": null,
      "metadata": {
        "id": "F7EGNtx4J8cu"
      },
      "outputs": [],
      "source": [
        "# CatBoostClassifier\n",
        "\n",
        "pipeline_catboost = Pipeline([\n",
        "    ('scaler', None),\n",
        "    ('clf', CatBoostClassifier(logging_level=\"Silent\", eval_metric=\"AUC\", loss_function=\"Logloss\"))\n",
        "])\n",
        "\n",
        "param_catboost = {\n",
        "        'scaler': [MinMaxScaler()],\n",
        "        'clf__learning_rate': [0.04],\n",
        "        'clf__depth': [4]\n",
        "    }\n",
        "\n",
        "cls_catboost = GridSearchCV(estimator=pipeline_catboost, param_grid=param_catboost, cv=5, scoring='roc_auc')\n",
        "cls_catboost.fit(X_train, y_train)\n",
        "\n",
        "print(\"Best parameters:\", cls_catboost.best_params_)\n",
        "print(\"Train Best score (AUC):\", cls_catboost.best_score_)\n",
        "\n",
        "y_pred_catboost = cls_catboost.best_estimator_.predict_proba(X_test)[:, 1]\n",
        "auc_catboost = roc_auc_score(y_test, y_pred_catboost)\n",
        "print(\"Test Score (AUC) : \", auc_catboost )\n",
        "\n",
        "# Best parameters: {'clf__depth': 4, 'clf__learning_rate': 0.04, 'scaler': MinMaxScaler()}\n",
        "# Train Best score (AUC): 0.8882883004371456\n",
        "# Test Score (AUC) :  0.889206326181815"
      ]
    },
    {
      "cell_type": "markdown",
      "metadata": {
        "id": "jK0w1Pqq6-7b"
      },
      "source": [
        "## 그 이외의 모델"
      ]
    },
    {
      "cell_type": "markdown",
      "metadata": {
        "id": "KC7Zune18IXX"
      },
      "source": [
        "### QuadraticDiscriminantAnalysis"
      ]
    },
    {
      "cell_type": "code",
      "execution_count": null,
      "metadata": {
        "id": "S05vIfpJ7clb"
      },
      "outputs": [],
      "source": [
        "# QuadraticDiscriminantAnalysis\n",
        "\n",
        "pipeline_qda = Pipeline([\n",
        "    ('scaler', None),\n",
        "    ('clf', QuadraticDiscriminantAnalysis())\n",
        "])\n",
        "\n",
        "# 하이퍼파라미터 그리드 설정\n",
        "param_qda = {\n",
        "    'scaler': [RobustScaler()],\n",
        "    'clf__reg_param': [ 0.1]\n",
        "}\n",
        "\n",
        "# 그리드 서치 설정\n",
        "cls_qda = GridSearchCV(estimator=pipeline_qda, param_grid=param_qda, cv=5, scoring='roc_auc')\n",
        "\n",
        "# 그리드 서치 수행\n",
        "cls_qda.fit(X_train, y_train)\n",
        "\n",
        "# 최적의 파라미터 및 성능 출력\n",
        "print(\"Best parameters:\", cls_qda.best_params_)\n",
        "print(\"Train Best score (AUC):\", cls_qda.best_score_)\n",
        "\n",
        "# 테스트 데이터 예측 및 AUC 계산\n",
        "y_pred_qda = cls_qda.best_estimator_.predict_proba(X_test)[:, 1]\n",
        "auc_qda = roc_auc_score(y_test, y_pred_qda)\n",
        "print(\"Test Score (AUC) : \", auc_qda)\n",
        "\n",
        "# Best parameters: {'clf__reg_param': 0.1, 'scaler': RobustScaler()}\n",
        "# Train Best score (AUC): 0.8478037285002824\n",
        "# Test Score (AUC) :  0.8449149630470922"
      ]
    },
    {
      "cell_type": "markdown",
      "metadata": {
        "id": "COMyvsYv8Jvh"
      },
      "source": [
        "### AdaBoostClassifier"
      ]
    },
    {
      "cell_type": "code",
      "execution_count": null,
      "metadata": {
        "id": "AQSExWZ67mfU"
      },
      "outputs": [],
      "source": [
        "# AdaBoostClassifier\n",
        "\n",
        "pipeline_adaboost = Pipeline([\n",
        "    ('scaler', None),\n",
        "    ('clf', AdaBoostClassifier())\n",
        "])\n",
        "\n",
        "# 하이퍼파라미터 그리드 설정\n",
        "param_adaboost = {\n",
        "    'scaler': [RobustScaler()],\n",
        "    'clf__n_estimators': [ 250],\n",
        "    'clf__learning_rate': [1.0]\n",
        "}\n",
        "\n",
        "# 그리드 서치 설정\n",
        "cls_adaboost = GridSearchCV(estimator=pipeline_adaboost, param_grid=param_adaboost, cv=5, scoring='roc_auc')\n",
        "\n",
        "# 그리드 서치 수행\n",
        "cls_adaboost.fit(X_train, y_train)\n",
        "\n",
        "# 최적의 파라미터 및 성능 출력\n",
        "print(\"Best parameters:\", cls_adaboost.best_params_)\n",
        "print(\"Train Best score (AUC):\", cls_adaboost.best_score_)\n",
        "\n",
        "# 테스트 데이터 예측 및 AUC 계산\n",
        "y_pred_adaboost = cls_adaboost.best_estimator_.predict_proba(X_test)[:, 1]\n",
        "auc_adaboost = roc_auc_score(y_test, y_pred_adaboost)\n",
        "print(\"Test Score (AUC) : \", auc_adaboost)\n",
        "\n",
        "# Best parameters: {'clf__learning_rate': 1.0, 'clf__n_estimators': 250, 'scaler': RobustScaler()}\n",
        "# Train Best score (AUC): 0.8792854483116999\n",
        "# Test Score (AUC) :  0.879878212951271"
      ]
    },
    {
      "cell_type": "markdown",
      "metadata": {
        "id": "8srEZDpq8LM_"
      },
      "source": [
        "### GaussianNB"
      ]
    },
    {
      "cell_type": "code",
      "execution_count": null,
      "metadata": {
        "id": "DxmkcCiN72SN"
      },
      "outputs": [],
      "source": [
        "# GaussianNB\n",
        "pipeline_nb = Pipeline([\n",
        "    ('scaler', None),\n",
        "    ('clf', GaussianNB())\n",
        "])\n",
        "\n",
        "# 하이퍼파라미터 그리드 설정\n",
        "param_nb = {\n",
        "    'scaler': [MinMaxScaler()],\n",
        "}\n",
        "\n",
        "# 그리드 서치 설정\n",
        "cls_nb = GridSearchCV(estimator=pipeline_nb, param_grid=param_nb, cv=5, scoring='roc_auc')\n",
        "\n",
        "# 그리드 서치 수행\n",
        "cls_nb.fit(X_train, y_train)\n",
        "\n",
        "# 최적의 파라미터 및 성능 출력\n",
        "print(\"Best parameters:\", cls_nb.best_params_)\n",
        "print(\"Train Best score (AUC):\", cls_nb.best_score_)\n",
        "\n",
        "# 테스트 데이터 예측 및 AUC 계산\n",
        "y_pred_nb = cls_nb.best_estimator_.predict_proba(X_test)[:, 1]\n",
        "auc_nb = roc_auc_score(y_test, y_pred_nb)\n",
        "print(\"Test Score (AUC) : \", auc_nb)\n",
        "\n",
        "# Best parameters: {'scaler': MinMaxScaler()}\n",
        "# Train Best score (AUC): 0.8162984607769876\n",
        "# Test Score (AUC) :  0.8121932911602249"
      ]
    },
    {
      "cell_type": "markdown",
      "metadata": {
        "id": "hADAXp6r8Ms_"
      },
      "source": [
        "### SGDClassifier"
      ]
    },
    {
      "cell_type": "code",
      "execution_count": null,
      "metadata": {
        "id": "5YlSY9y97_o7"
      },
      "outputs": [],
      "source": [
        "# SGDClassifier\n",
        "\n",
        "pipeline_sgd = Pipeline([\n",
        "    ('scaler', None),\n",
        "    ('clf', SGDClassifier())\n",
        "])\n",
        "\n",
        "param_sgd = {\n",
        "        'scaler': [RobustScaler()],\n",
        "        'clf__loss': ['modified_huber'],\n",
        "        'clf__penalty': ['l2'],\n",
        "        'clf__alpha': [ 0.1],\n",
        "        'clf__learning_rate': ['optimal']\n",
        "    }\n",
        "\n",
        "cls_sgd = GridSearchCV(estimator=pipeline_sgd, param_grid=param_sgd, cv=5, scoring='roc_auc')\n",
        "cls_sgd.fit(X_train, y_train)\n",
        "\n",
        "print(\"Best parameters:\", cls_sgd.best_params_)\n",
        "print(\"Train Best score (AUC):\", cls_sgd.best_score_)\n",
        "\n",
        "y_pred_sgd = cls_sgd.best_estimator_.decision_function(X_test)\n",
        "auc_sgd = roc_auc_score(y_test, y_pred_sgd)\n",
        "print(\"Test Score (AUC) : \", auc_sgd)\n",
        "\n",
        "# Best parameters: {'clf__alpha': 0.1, 'clf__learning_rate': 'optimal', 'clf__loss': 'modified_huber', 'clf__penalty': 'l2', 'scaler': RobustScaler()}\n",
        "# Train Best score (AUC): 0.8277247967596943\n",
        "# Test Score (AUC) :  0.8262353054483689"
      ]
    },
    {
      "cell_type": "code",
      "execution_count": null,
      "metadata": {
        "id": "49G-kl1C8SVU"
      },
      "outputs": [],
      "source": [
        "models = [cls_LGB.best_estimator_, cls_xgb.best_estimator_,  cls_rf.best_estimator_,  cls_adaboost.best_estimator_,cls_qda.best_estimator_, cls_sgd.best_estimator_]\n",
        "names = [\"cls_LGB\", \"cls_xgb\", \"cls_rf\", \"cls_adaboost\", \"cls_qda\", \"cls_sgd\"]"
      ]
    },
    {
      "cell_type": "code",
      "execution_count": null,
      "metadata": {
        "id": "Fwa6D81o8whw"
      },
      "outputs": [],
      "source": [
        "def calculate_accuracy(model, X, y):\n",
        "    # 모델의 예측값 계산\n",
        "    y_pred = model.predict(X)\n",
        "\n",
        "    # 정확도 점수 계산\n",
        "    accuracy = accuracy_score(y, y_pred)\n",
        "\n",
        "    return accuracy\n",
        "\n",
        "for name, model in zip(names, models):\n",
        "  print(name, \" | accuracy score : \", calculate_accuracy(model, X_test, y_test))"
      ]
    },
    {
      "cell_type": "code",
      "execution_count": null,
      "metadata": {
        "id": "_GVzPi-m87_R"
      },
      "outputs": [],
      "source": [
        "model_names = list()\n",
        "base_models = list()\n",
        "for model_name, base_model in zip(names, models):\n",
        "  try:\n",
        "    y_pred = base_model.predict_proba(X_test)[:, 1]\n",
        "    auc_score = roc_auc_score(y_test, y_pred)\n",
        "    print(f\"{model_name} \\t\\t Test Score (AUC) : {auc_score}\")\n",
        "    model_names.append(model_name)\n",
        "    base_models.append(base_model)\n",
        "  except:\n",
        "    print(f\"********* Failed model : {model_name} ***********\")"
      ]
    },
    {
      "cell_type": "code",
      "execution_count": null,
      "metadata": {
        "id": "yik9Ctu9XjyA"
      },
      "outputs": [],
      "source": [
        "als = {\n",
        "    'RandomForestClassifier': ( RandomForestClassifier(max_depth=10, n_estimators=220), '.-'),\n",
        "    'XGBClassifier'            :( XGBClassifier(learning_rate = 0.2, max_depth = 4), ':'),\n",
        "    'LGBMClassifier'                   :( LGBMClassifier(learning_rate=0.1, max_depth = 4), '-'),\n",
        "    'CatBoostClassifier' : (CatBoostClassifier(learning_rate=0.04, max_depth = 4), '.')\n",
        "}"
      ]
    },
    {
      "cell_type": "code",
      "execution_count": null,
      "metadata": {
        "id": "rZsGX-mhXjUE"
      },
      "outputs": [],
      "source": [
        "plt.figure( figsize=(7,7))\n",
        "\n",
        "for al_nm, ( model, line_style ) in als.items():\n",
        "    model.fit( X_train, y_train )\n",
        "    pred = model.predict_proba( X_test )\n",
        "    pred_t = pred[ :, -1]\n",
        "    fpr, tpr, _ = roc_curve(y_test.values, pred_t, )\n",
        "    plt.plot( fpr, tpr, line_style, label=al_nm)\n",
        "\n",
        "plt.legend()\n",
        "plt.xlabel('False Positive Rate')\n",
        "plt.ylabel('True Positive Rate')\n",
        "\n",
        "# 화면출력\n",
        "plt.show()"
      ]
    },
    {
      "cell_type": "markdown",
      "metadata": {
        "id": "zMY6GDZZ92lz"
      },
      "source": [
        "# 피처 수정 + CatBoost"
      ]
    },
    {
      "cell_type": "code",
      "execution_count": null,
      "metadata": {
        "id": "tS9Kkh6E90Fi"
      },
      "outputs": [],
      "source": [
        "train = pd.read_csv(\"/content/dataset/train.csv\", index_col = 0)\n",
        "test_df = pd.read_csv(\"/content/dataset/test.csv\", index_col = 0)\n",
        "train_add = pd.read_csv(\"/content/dataset/Churn_Modelling.csv\", index_col = 0)\n",
        "\n",
        "# 병합\n",
        "train_df = train.merge(train_add, how=\"outer\")\n",
        "\n",
        "#결측치 칼럼 제거\n",
        "train_df = train_df.dropna()\n",
        "\n",
        "# CustomerId 피쳐 제거\n",
        "train_df.drop([\"CustomerId\"], axis=1, inplace=True)\n",
        "test_df.drop([\"CustomerId\"], axis=1, inplace=True)\n",
        "\n",
        "def getFeats(df):\n",
        "    df['IsSenior']               = df['Age'].apply(lambda x: 1 if x >= 60 else 0)\n",
        "\n",
        "    df['IsActive_by_CreditCard'] = df['HasCrCard'] * df['IsActiveMember']\n",
        "\n",
        "    df['Products_Per_Tenure']    = df['Tenure'] / df['NumOfProducts']\n",
        "\n",
        "    df['AgeCat']                 = (df[\"Age\"]//10).astype('int').astype('category')\n",
        "\n",
        "    return df\n",
        "\n",
        "getFeats(train_df)\n",
        "getFeats(test_df)"
      ]
    },
    {
      "cell_type": "code",
      "execution_count": null,
      "metadata": {
        "id": "4Pk9N8-W-U-j"
      },
      "outputs": [],
      "source": [
        "X = train_df.drop(columns = ['Exited'])\n",
        "y = train_df.Exited"
      ]
    },
    {
      "cell_type": "code",
      "execution_count": null,
      "metadata": {
        "id": "suGKwDu7-T7c"
      },
      "outputs": [],
      "source": [
        "# train_df = pd.get_dummies(data = train_df, columns=['Geography'], dtype=int)\n",
        "# train_df = pd.get_dummies(data = train_df, columns=['AgeCat'], dtype=int)\n",
        "# train_df[\"Gender\"] = train_df[\"Gender\"].map({\"Male\":0, \"Female\":1})"
      ]
    },
    {
      "cell_type": "code",
      "execution_count": null,
      "metadata": {
        "id": "5YYO5Ow_-WU8"
      },
      "outputs": [],
      "source": [
        "# X_train, X_test, y_train, y_test = train_test_split(X, y, test_size = 0.2, random_state = 42, stratify = y)\n",
        "# def my_func(depth, learning_rate, l2_leaf_reg, random_strength):\n",
        "#     model = CatBoostClassifier( depth        = int(depth)\n",
        "#                           ,learning_rate    = learning_rate\n",
        "#                           ,l2_leaf_reg   = int(l2_leaf_reg)\n",
        "#                           ,random_strength  = random_strength\n",
        "#     )\n",
        "\n",
        "#     model.fit( X_train, y_train )\n",
        "\n",
        "#     y_pred = model.predict_proba(X_test)[:, 1]\n",
        "\n",
        "#     return roc_auc_score(y_test, y_pred)\n",
        "# bo = BayesianOptimization(f=my_func, pbounds=param_bounds, verbose=2, random_state=42 )\n",
        "# bo.maximize( init_points = 10, n_iter=100, acq='ei', xi=0.01)\n",
        "# max_params = bo.max['params']\n",
        "# max_params\n",
        "\n",
        "# {'depth': 3.421383194252043,\n",
        "#  'l2_leaf_reg': 1.5592158346513352,\n",
        "#  'learning_rate': 0.0658686340211863,\n",
        "#  'random_strength': 1.3869079551546575}"
      ]
    },
    {
      "cell_type": "code",
      "execution_count": null,
      "metadata": {
        "id": "BONQltBq-YKX"
      },
      "outputs": [],
      "source": [
        "cat_features = ['Surname', 'Geography', 'Gender', 'AgeCat']"
      ]
    },
    {
      "cell_type": "code",
      "execution_count": null,
      "metadata": {
        "id": "BckM9HBr-clz"
      },
      "outputs": [],
      "source": [
        "folds = StratifiedKFold(n_splits=5,random_state=42,shuffle=True)\n",
        "test_preds = np.empty((5, len(test_df)))\n",
        "auc_vals=[]\n",
        "\n",
        "for n_fold, (train_idx, valid_idx) in enumerate(folds.split(X, y)):\n",
        "\n",
        "    X_train, y_train = X.iloc[train_idx], y.iloc[train_idx]\n",
        "    X_val, y_val = X.iloc[valid_idx], y.iloc[valid_idx]\n",
        "\n",
        "    train_pool = Pool(X_train, y_train,cat_features=cat_features)\n",
        "    val_pool = Pool(X_val, y_val,cat_features=cat_features)\n",
        "\n",
        "    clf = CatBoostClassifier(\n",
        "    eval_metric='AUC',\n",
        "    depth = 3,\n",
        "    l2_leaf_reg = 1,\n",
        "    learning_rate=0.06,\n",
        "    random_strength = 1.38,\n",
        "    iterations = 5000)\n",
        "\n",
        "    clf.fit(train_pool, eval_set=val_pool,verbose=300)\n",
        "\n",
        "    y_pred_val = clf.predict_proba(X_val)[:,1]\n",
        "    auc_val = roc_auc_score(y_val, y_pred_val)\n",
        "    print(\"AUC for fold \",n_fold,\": \",auc_val)\n",
        "    auc_vals.append(auc_val)\n",
        "\n",
        "    y_pred_test = clf.predict_proba(test_df)[:,1]\n",
        "    test_preds[n_fold, :] = y_pred_test\n",
        "    print(\"----------------\")"
      ]
    },
    {
      "cell_type": "code",
      "execution_count": null,
      "metadata": {
        "id": "m5WnHTBt-eD-"
      },
      "outputs": [],
      "source": [
        "\"Mean AUC: \",np.mean(auc_vals)"
      ]
    },
    {
      "cell_type": "code",
      "execution_count": null,
      "metadata": {
        "id": "1u5Lma5RWofJ"
      },
      "outputs": [],
      "source": [
        "pred = clf.predict_proba( X_val )\n",
        "pred_t = pred[ :, -1]\n",
        "fpr, tpr, _ = roc_curve(y_val.values, pred_t, )\n",
        "plt.plot( fpr, tpr )\n",
        "\n",
        "plt.xlabel('False Positive Rate')\n",
        "plt.ylabel('True Positive Rate')\n",
        "\n",
        "\n",
        "plt.show()"
      ]
    },
    {
      "cell_type": "code",
      "execution_count": null,
      "metadata": {
        "id": "OjCluFO3UauZ"
      },
      "outputs": [],
      "source": [
        "features = X.columns\n",
        "importance = clf.feature_importances_\n",
        "\n",
        "cat_importances = pd.Series(importance, index = features).sort_values(ascending = False)\n",
        "\n",
        "fig, ax = plt.subplots(figsize=(6, 4))\n",
        "cat_importances.plot.bar(ax=ax)\n",
        "plt.title(f\"Feature Importances - Cat Model\")\n",
        "plt.show()"
      ]
    },
    {
      "cell_type": "code",
      "execution_count": null,
      "metadata": {
        "id": "UqQ66rKQ-pOe"
      },
      "outputs": [],
      "source": [
        "sample = pd.read_csv('/content/dataset/sample_submission.csv')\n",
        "y_pred = test_preds.mean(axis=0)\n",
        "sample['Exited'] = y_pred"
      ]
    },
    {
      "cell_type": "code",
      "execution_count": null,
      "metadata": {
        "id": "2LqWwb5y-uq6"
      },
      "outputs": [],
      "source": [
        "# sample.to_csv('clf_v30_20240424.csv', index = False)"
      ]
    }
  ],
  "metadata": {
    "colab": {
      "provenance": []
    },
    "kernelspec": {
      "display_name": "Python 3",
      "name": "python3"
    },
    "language_info": {
      "name": "python"
    }
  },
  "nbformat": 4,
  "nbformat_minor": 0
}